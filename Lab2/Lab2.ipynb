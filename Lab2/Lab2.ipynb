{
 "cells": [
  {
   "cell_type": "markdown",
   "metadata": {},
   "source": [
    "# **Лабораторна робота No2**\n",
    "**Наука про дані: підготовчий етап**\n",
    "\n",
    "**Мета роботи:** ознайомитися з основними кроками по роботі з даними – workflow від постановки задачі до написання пояснювальної записки, зрозуміти постановку задачі та природу даних, над якими виконується аналітичні операції."
   ]
  },
  {
   "cell_type": "markdown",
   "metadata": {},
   "source": [
    "# **Хід виконання роботи:**"
   ]
  },
  {
   "cell_type": "markdown",
   "metadata": {},
   "source": [
    "1. Для кожної із адміністративних одиниць України завантажити тестові структуровані файли, що містять значення VHI-індексу. Ця процедура має бути автоматизована, параметром процедури має бути індекс (номер) області. При зберіганні файлу до його імені потрібно додати дату та час завантаження. Передбачити повторні запуски скрипту, довантаження нових даних та колізію даних;"
   ]
  },
  {
   "cell_type": "code",
   "execution_count": 8,
   "metadata": {},
   "outputs": [
    {
     "name": "stdout",
     "output_type": "stream",
     "text": [
      "Файл 1 області збережено\n",
      "Файл 2 області збережено\n",
      "Файл 3 області збережено\n",
      "Файл 4 області збережено\n",
      "Файл 5 області збережено\n",
      "Файл 6 області збережено\n",
      "Файл 7 області збережено\n",
      "Файл 8 області збережено\n",
      "Файл 9 області збережено\n",
      "Файл 10 області збережено\n",
      "Файл 11 області збережено\n",
      "Файл 12 області збережено\n",
      "Файл 13 області збережено\n",
      "Файл 14 області збережено\n",
      "Файл 15 області збережено\n",
      "Файл 16 області збережено\n",
      "Файл 17 області збережено\n",
      "Файл 18 області збережено\n",
      "Файл 19 області збережено\n",
      "Файл 20 області збережено\n",
      "Файл 21 області збережено\n",
      "Файл 22 області збережено\n",
      "Файл 23 області збережено\n",
      "Файл 24 області збережено\n",
      "Файл 25 області збережено\n",
      "Файл 26 області збережено\n",
      "Файл 27 області збережено\n",
      "Всі файли збережено\n",
      "Об’єднаний файл збережено у 'data/all_regions_combined.csv'\n"
     ]
    }
   ],
   "source": [
    "import urllib.request \n",
    "import datetime \n",
    "import time \n",
    "import os \n",
    "import pandas as pd\n",
    "\n",
    "if not os.path.isdir(\"data\"): \n",
    "    os.mkdir(\"data\") \n",
    "\n",
    "for i in range(1,28): \n",
    "    url= f\"https://www.star.nesdis.noaa.gov/smcd/emb/vci/VH/get_TS_admin.php?country=UKR&provinceID={i}&year1=1981&year2=2024&type=Mean\" \n",
    "    wp = urllib.request.urlopen(url)\n",
    "    text = wp.read()\n",
    "    now = datetime.datetime.now() \n",
    "    date_and_time = now.strftime(\"%d-%m-%Y__%H-%M-%S\")\n",
    "   \n",
    "    with open(f'data/id_{str(i)}_{date_and_time}.csv', 'wb') as f: \n",
    "        f.write(text) \n",
    "    print(f\"Файл {i} області збережено\") \n",
    "\n",
    "print(\"Всі файли збережено\")\n",
    "\n",
    "# Зчитування CSV-файлів у фрейм\n",
    "def read_csv_files_to_df(directory):\n",
    "    data_frames = []\n",
    "    for filename in os.listdir(directory):\n",
    "        if filename.endswith(\".csv\"):\n",
    "            reg = filename.split(\"_\")[1]\n",
    "            file_path = os.path.join(directory, filename)\n",
    "            try:\n",
    "                data = pd.read_csv(file_path, index_col=False, header=1)\n",
    "                data.columns = [col.strip().lower().replace(\"<br>\", \"\") for col in data.columns]\n",
    "                data = data.replace(to_replace=r'<.*?>', value='', regex=True)\n",
    "                data[\"oblast\"] = reg\n",
    "                data_frames.append(data)\n",
    "            except Exception as e:\n",
    "                print(f\"Не вдалося зчитати файл {file_path}: {e}\")\n",
    "    if data_frames:\n",
    "        combined_data = pd.concat(data_frames, ignore_index=True)\n",
    "    else:\n",
    "        combined_data = pd.DataFrame()\n",
    "    combined_data = combined_data[combined_data[\"vhi\"] != -1]\n",
    "    return combined_data\n",
    "\n",
    "# Словник заміни ID на назви областей\n",
    "obl_dict = {\n",
    "    1: \"Черкаська\", 2: \"Чернігівська\", 3: \"Чернівецька\", 4: \"Республіка Крим\",\n",
    "    5: \"Дніпропетровська\", 6: \"Донецька\", 7: \"Івано-Франківська\", 8: \"Харківська\",\n",
    "    9: \"Херсонська\", 10: \"Хмельницька\", 11: \"Київська\", 13: \"Кіровоградська\",\n",
    "    14: \"Луганська\", 15: \"Львівська\", 16: \"Миколаївська\", 17: \"Одеська\",\n",
    "    18: \"Полтавська\", 19: \"Рівенська\", 21: \"Сумська\", 22: \"Тернопільська\",\n",
    "    23: \"Закарпатська\", 24: \"Вінницька\", 25: \"Волинська\", 26: \"Запорізька\",\n",
    "    27: \"Житомирська\"\n",
    "}\n",
    "\n",
    "# Зчитування та об'єднання\n",
    "data = read_csv_files_to_df(\"data\")\n",
    "data[\"oblast\"] = data[\"oblast\"].astype(int).map(obl_dict)\n",
    "data[\"year\"] = pd.to_numeric(data[\"year\"], errors=\"coerce\").astype(\"Int64\")\n",
    "\n",
    "# Збереження у фінальний об'єднаний файл\n",
    "data.to_csv(\"data/all_regions_combined.csv\", index=False, encoding='utf-8')\n",
    "print(\"Об’єднаний файл збережено у 'data/all_regions_combined.csv'\")\n"
   ]
  },
  {
   "cell_type": "code",
   "execution_count": 9,
   "metadata": {},
   "outputs": [
    {
     "name": "stdout",
     "output_type": "stream",
     "text": [
      "   year  week    smn     smt    vci    tci    vhi       oblast\n",
      "0  1982   1.0  0.059  258.24  51.11  48.78  49.95  Хмельницька\n",
      "1  1982   2.0  0.063  261.53  55.89  38.20  47.04  Хмельницька\n",
      "2  1982   3.0  0.063  263.45  57.30  32.69  44.99  Хмельницька\n",
      "3  1982   4.0  0.061  265.10  53.96  28.62  41.29  Хмельницька\n",
      "4  1982   5.0  0.058  266.42  46.87  28.57  37.72  Хмельницька\n"
     ]
    }
   ],
   "source": [
    "print(data.head()) "
   ]
  },
  {
   "cell_type": "markdown",
   "metadata": {},
   "source": [
    "2. Зчитати завантажені текстові файли у фрейм. Імена стовбців фрейму мають бути змістовними та легкими для сприйняття (не повинно бути спеціалізованих символів, пробілів тощо). Ця задача має бути реалізована у вигляді окремої процедури, яка на вхід приймає шлях до директорії, в якій зберігаються файли;"
   ]
  },
  {
   "cell_type": "code",
   "execution_count": 1,
   "metadata": {},
   "outputs": [
    {
     "name": "stdout",
     "output_type": "stream",
     "text": [
      "   year  week    smn     smt    vci    tci    vhi oblast\n",
      "0  1982   1.0  0.059  258.24  51.11  48.78  49.95     10\n",
      "1  1982   2.0  0.063  261.53  55.89  38.20  47.04     10\n",
      "2  1982   3.0  0.063  263.45  57.30  32.69  44.99     10\n",
      "3  1982   4.0  0.061  265.10  53.96  28.62  41.29     10\n",
      "4  1982   5.0  0.058  266.42  46.87  28.57  37.72     10\n"
     ]
    }
   ],
   "source": [
    "import os\n",
    "import pandas as pd\n",
    "\n",
    "def read_csv_files_to_df(directory):\n",
    "    data_frames = []\n",
    "\n",
    "    for filename in os.listdir(directory):\n",
    "        reg = filename.split(\"_\")[1]\n",
    "        file_path = os.path.join(directory, filename)\n",
    "\n",
    "        try:\n",
    "            data = pd.read_csv(file_path, index_col=False, header=1)\n",
    "            data.columns = [col.strip().lower().replace(\"<br>\", \"\") for col in data.columns] \n",
    "            data = data.replace(to_replace=r'<.*?>', value='', regex=True)\n",
    "            data[\"oblast\"] = reg\n",
    "            data_frames.append(data)\n",
    "\n",
    "        except Exception as e:\n",
    "            print(f\"Не вдалося зчитати файл {file_path}: {e}\")\n",
    "\n",
    "\n",
    "    if data_frames:\n",
    "        combined_data = pd.concat(data_frames, ignore_index=True)\n",
    "    else:\n",
    "        combined_data = pd.Dataframe()\n",
    "    \n",
    "    combined_data = combined_data[combined_data[\"vhi\"] != -1]\n",
    "    return combined_data\n",
    "\n",
    "\n",
    "data = read_csv_files_to_df(\"data\") \n",
    "print(data.head())   "
   ]
  },
  {
   "cell_type": "markdown",
   "metadata": {},
   "source": [
    "3. Реалізувати окрему процедуру, яка змінить індекси областей, які використані на порталі NOAA (за англійською абеткою) на наступні, за українською (виключно старі індекси на нові)"
   ]
  },
  {
   "cell_type": "code",
   "execution_count": 2,
   "metadata": {},
   "outputs": [],
   "source": [
    "#obl_dict={ \n",
    "#1: 22,   # Cherkasy -> Черкаська\n",
    "#2: 24,   # Chernihiv -> Чернігівська\n",
    "#3: 23,   # Chernivtsi -> Чернівецька\n",
    "#4: 25,   # Crimea -> Республіка Крим\n",
    "#5: 3,    # Dnipropetrovs'k -> Дніпропетровська\n",
    "#6: 4,    # Donets'k -> Донецька\n",
    "#7: 8,    # Ivano-Frankivs'k -> Івано-Франківська\n",
    "#8: 19,   # Kharkiv -> Харківська\n",
    "#9: 20,   # Kherson -> Херсонська\n",
    "#10: 21,  # Khmel'nyts'kyy -> Хмельницька\n",
    "#11: 9,   # Kiev -> Київська\n",
    "#12: 9,   # Kiev City -> Київська\n",
    "#13: 10,  # Kirovohrad -> Кіровоградська\n",
    "#14: 11,  # Luhans'k -> Луганська\n",
    "#15: 12,  # L'viv -> Львівська#\n",
    "#16: 13,  # Mykolayiv -> Миколаївська\n",
    "#17: 14,  # Odessa -> Одеська\n",
    "#18: 15,  # Poltava -> Полтавська\n",
    "#19: 16,  # Rivne -> Рівенська\n",
    "#20: 25,  # Sevastopol -> Республіка Крим\n",
    "#21: 17,  # Sumy -> Сумська\n",
    "#22: 18,  # Ternopil' -> Тернопільська\n",
    "#23: 6,   # Transcarpathia -> Закарпатська\n",
    "#24: 1,   # Vinnytsya -> Вінницька\n",
    "#25: 2,   # Volyn -> Волинська\n",
    "#26: 7,   # Zaporizhzhya -> Запорізька\n",
    "#27: 5    # Zhytomyr -> Житомирська\n",
    "#} \n",
    "\n",
    "obl_dict={ \n",
    "1: \"Черкаська\",   # Cherkasy -> Черкаська\n",
    "2: \"Чернігівська\",   # Chernihiv -> Чернігівська\n",
    "3: \"Чернівецька\",   # Chernivtsi -> Чернівецька\n",
    "4: \"Республіка Крим\",   # Crimea -> Республіка Крим\n",
    "5: \"Дніпропетровська\",    # Dnipropetrovs'k -> Дніпропетровська\n",
    "6: \"Донецька\",    # Donets'k -> Донецька\n",
    "7: \"Івано-Франківська\",    # Ivano-Frankivs'k -> Івано-Франківська\n",
    "8: \"Харківська\",   # Kharkiv -> Харківська\n",
    "9: \"Херсонська\",   # Kherson -> Херсонська\n",
    "10: \"Хмельницька\",  # Khmel'nyts'kyy -> Хмельницька\n",
    "11: \"Київська\",   # Kiev -> Київська\n",
    "13: \"Кіровоградська\",  # Kirovohrad -> Кіровоградська\n",
    "14: \"Луганська\",  # Luhans'k -> Луганська\n",
    "15: \"Львівська\",  # L'viv -> Львівська\n",
    "16: \"Миколаївська\",  # Mykolayiv -> Миколаївська\n",
    "17: \"Одеська\",  # Odessa -> Одеська\n",
    "18: \"Полтавська\",  # Poltava -> Полтавська\n",
    "19: \"Рівенська\",  # Rivne -> Рівенська\n",
    "21: \"Сумська\",  # Sumy -> Сумська\n",
    "22: \"Тернопільська\",  # Ternopil' -> Тернопільська\n",
    "23: \"Закарпатська\",   # Transcarpathia -> Закарпатська\n",
    "24: \"Вінницька\",   # Vinnytsya -> Вінницька\n",
    "25: \"Волинська\",   # Volyn -> Волинська\n",
    "26: \"Запорізька\",   # Zaporizhzhya -> Запорізька\n",
    "27: \"Житомирська\"    # Zhytomyr -> Житомирська\n",
    "} \n",
    "\n",
    "data[\"oblast\"] = data[\"oblast\"].astype(int).map(obl_dict)\n"
   ]
  },
  {
   "cell_type": "code",
   "execution_count": 3,
   "metadata": {},
   "outputs": [
    {
     "name": "stdout",
     "output_type": "stream",
     "text": [
      "   year  week    smn     smt    vci    tci    vhi       oblast\n",
      "0  1982   1.0  0.059  258.24  51.11  48.78  49.95  Хмельницька\n",
      "1  1982   2.0  0.063  261.53  55.89  38.20  47.04  Хмельницька\n",
      "2  1982   3.0  0.063  263.45  57.30  32.69  44.99  Хмельницька\n",
      "3  1982   4.0  0.061  265.10  53.96  28.62  41.29  Хмельницька\n",
      "4  1982   5.0  0.058  266.42  46.87  28.57  37.72  Хмельницька\n"
     ]
    }
   ],
   "source": [
    "data[\"year\"] = pd.to_numeric(data[\"year\"], errors=\"coerce\").astype(\"Int64\")\n",
    "print(data.head())"
   ]
  },
  {
   "cell_type": "markdown",
   "metadata": {},
   "source": [
    "4. Реалізувати процедури для формування вибірок наступного виду (включаючи елементи аналізу):\n",
    "1) Ряд VHI для області за вказаний рік;\n",
    "2) Пошук екстремумів (min та max) для вказаних областей та років, середнього, медіани;\n",
    "3) Ряд VHI за вказаний діапазон років для вказаних областей;\n",
    "4) Для всього набору даних виявити роки, протягом яких екстремальні посухи торкнулися більше вказаного відсотка областей по Україні (20% областей - 5 областей з 25). Повернути роки, назви областей з екстремальними посухами;"
   ]
  },
  {
   "cell_type": "code",
   "execution_count": 5,
   "metadata": {},
   "outputs": [
    {
     "name": "stdout",
     "output_type": "stream",
     "text": [
      "vhi для 22 області на 2003 рік склав \n",
      "[49.76, 45.72, 44.91, 45.02, 43.94, 43.97, 45.03, 46.16, 47.66, 46.93, 46.43, 46.14, 45.01, 45.01, 43.53, 40.05, 34.14, 29.44, 28.14, 28.62, 30.27, 33.34, 38.78, 44.66, 50.44, 54.97, 58.9, 62.22, 63.94, 63.65, 60.95, 57.16, 56.58, 55.19, 51.23, 49.8, 48.86, 49.72, 52.6, 54.33, 53.72, 50.44, 43.07, 35.69, 33.71, 37.14, 41.48, 46.87, 53.06, 60.32, 67.03]\n",
      "\n",
      "\tMin: 28.14\n",
      "\tMax: 67.03\n",
      "\n",
      "\tAvg: 47.171176470588236\n",
      "\tMedian: 46.43\n"
     ]
    }
   ],
   "source": [
    "import statistics \n",
    "\n",
    "def vhi_obl_year(obl, year): \n",
    "    res = data[(data[\"oblast\"] == obl) & (data[\"year\"] == year)] \n",
    "    res_vhi = list(res[\"vhi\"]) \n",
    "    \n",
    "    print(f\"vhi для {obl} області на {year} рік склав \\n{res_vhi}\") \n",
    "    \n",
    "    print(\"\\n\\tMin:\", min(res_vhi)) \n",
    "    print(\"\\tMax:\", max(res_vhi)) \n",
    "    \n",
    "    print(\"\\n\\tAvg:\", statistics.mean(res_vhi)) \n",
    "    print(\"\\tMedian:\", statistics.median(res_vhi)) \n",
    "\n",
    "vhi_obl_year(22, 2003)"
   ]
  },
  {
   "cell_type": "code",
   "execution_count": 6,
   "metadata": {},
   "outputs": [
    {
     "name": "stdout",
     "output_type": "stream",
     "text": [
      "vhi для [22, 2, 10] області на 1990-2021 має 5031 значень\n",
      "\n",
      "\tMin: 10.68\n",
      "\tMax: 84.52\n",
      "\n",
      "\tAvg: 48.759980123235934\n",
      "\tMedian: 47.95\n"
     ]
    }
   ],
   "source": [
    "def vhi_obls_years(obl, min_year, max_year): \n",
    "    res = data[(data[\"oblast\"].isin(obl)) & (data[\"year\"].between(min_year, max_year+1))] \n",
    "    res_vhi = list(res[\"vhi\"]) \n",
    "    \n",
    "    print(f\"vhi для {obl} області на {min_year}-{max_year} має {len(res_vhi)} значень\") \n",
    "    \n",
    "    print(\"\\n\\tMin:\", min(res_vhi)) \n",
    "    print(\"\\tMax:\", max(res_vhi)) \n",
    "    \n",
    "    print(\"\\n\\tAvg:\", statistics.mean(res_vhi)) \n",
    "    print(\"\\tMedian:\", statistics.median(res_vhi)) \n",
    "vhi_obls_years([22, 2, 10], 1990, 2021)"
   ]
  },
  {
   "cell_type": "code",
   "execution_count": 7,
   "metadata": {},
   "outputs": [
    {
     "name": "stdout",
     "output_type": "stream",
     "text": [
      "Роки, коли посухи торкнулися >20% областей (5+ областей):\n",
      "[1986]\n"
     ]
    }
   ],
   "source": [
    "def drought_years(percent=0):\n",
    "    draught_years = []\n",
    "    oblasti_indices = data[\"oblast\"].unique()  \n",
    "    min_obl_num = int((percent / 100) * len(oblasti_indices))  \n",
    "    \n",
    "    for year in data[\"year\"].unique():\n",
    "        draughts_in = 0\n",
    "        for idx in oblasti_indices:\n",
    "            res = data[(data[\"oblast\"] == idx) & (data[\"year\"] == year)]\n",
    "            res_vhi = list(res[\"vhi\"])\n",
    "            \n",
    "            if len(res_vhi) == 0:\n",
    "                continue  \n",
    "                \n",
    "            if statistics.mean(res_vhi) < 35:\n",
    "                draughts_in += 1\n",
    "                \n",
    "        if draughts_in > min_obl_num:\n",
    "            draught_years.append(int(year))\n",
    "    \n",
    "    print(f\"Роки, коли посухи торкнулися >{percent}% областей ({min_obl_num}+ областей):\")\n",
    "    print(draught_years)\n",
    "\n",
    "drought_years(20)"
   ]
  }
 ],
 "metadata": {
  "kernelspec": {
   "display_name": "Python (venv)",
   "language": "python",
   "name": "venv"
  },
  "language_info": {
   "codemirror_mode": {
    "name": "ipython",
    "version": 3
   },
   "file_extension": ".py",
   "mimetype": "text/x-python",
   "name": "python",
   "nbconvert_exporter": "python",
   "pygments_lexer": "ipython3",
   "version": "3.12.4"
  }
 },
 "nbformat": 4,
 "nbformat_minor": 2
}
